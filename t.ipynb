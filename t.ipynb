{
 "cells": [
  {
   "cell_type": "code",
   "execution_count": 10,
   "metadata": {},
   "outputs": [
    {
     "data": {
      "text/plain": [
       "'Air Force Blue (Usaf)'"
      ]
     },
     "execution_count": 10,
     "metadata": {},
     "output_type": "execute_result"
    }
   ],
   "source": [
    "import pandas as pd\n",
    "\n",
    "index = [\"color\", \"color_names\", \"hex\", \"B\", \"G\", \"R\"]\n",
    "csv = pd.read_csv('colors.csv', names=index, header=None)\n",
    "csv.head()\n",
    "\n",
    "csv.loc[1, \"color_names\"]"
   ]
  },
  {
   "cell_type": "code",
   "execution_count": null,
   "metadata": {},
   "outputs": [],
   "source": []
  }
 ],
 "metadata": {
  "interpreter": {
   "hash": "01910256f2159f7dba6693da0486bc9b321e0b590e1db819f2a41cbb1234d30d"
  },
  "kernelspec": {
   "display_name": "Python 3.8.12 64-bit ('tf-m1': conda)",
   "name": "python3"
  },
  "language_info": {
   "name": "python",
   "version": "3.8.12"
  },
  "orig_nbformat": 4
 },
 "nbformat": 4,
 "nbformat_minor": 2
}
